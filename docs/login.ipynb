{
 "cells": [
  {
   "cell_type": "code",
   "execution_count": 1,
   "metadata": {},
   "outputs": [
    {
     "name": "stdout",
     "output_type": "stream",
     "text": [
      "starting with \n",
      " MULTI_IDENT_PROVIDER: true \n",
      " USE_GLOBAL_ID: true \n",
      " USERNAME: dominik.feininger@gmail.com \n",
      "\n",
      "Execution of 1 workers started at 2022-05-25T07:33:05.395Z\n",
      "\n"
     ]
    },
    {
     "data": {
      "text/plain": [
       "Promise { <pending> }"
      ]
     },
     "execution_count": 1,
     "metadata": {},
     "output_type": "execute_result"
    },
    {
     "name": "stdout",
     "output_type": "stream",
     "text": [
      "[0-0] RUNNING in Chrome - /Users/dominikfeininger/Workspaces/wdi5/examples/ui5-js-app/webapp/test/e2e/basic.test.js\n",
      "[0-0] \u001b[0m[wdi5]\u001b[0m Navigating to: \"#/Main\"\n",
      "[0-0] \u001b[31m[wdi5]\u001b[0m Specified selector is not valid -> property 'selector' is missing\n",
      "[0-0] \u001b[31m[wdi5]\u001b[0m Specified selector is not valid -> property 'selector' is missing\n",
      "[0-0] \u001b[31m[wdi5]\u001b[0m call of _getControl() failed because of: undefined\n",
      "[0-0] \u001b[31m[wdi5]\u001b[0m error retrieving control: sometest.string\n",
      "[0-0] PASSED in Chrome - /Users/dominikfeininger/Workspaces/wdi5/examples/ui5-js-app/webapp/test/e2e/basic.test.js\n",
      "\n",
      " \"spec\" Reporter:\n",
      "------------------------------------------------------------------\n",
      "[chrome 101.0.4951.41 mac os x #0-0] Running: chrome (v101.0.4951.41) on mac os x\n",
      "[chrome 101.0.4951.41 mac os x #0-0] Session ID: 367d4a009058f4a5b7319de0380f859f3cd1a9c0\n",
      "[chrome 101.0.4951.41 mac os x #0-0]\n",
      "[chrome 101.0.4951.41 mac os x #0-0] » /Users/dominikfeininger/Workspaces/wdi5/examples/ui5-js-app/webapp/test/e2e/basic.test.js\n",
      "[chrome 101.0.4951.41 mac os x #0-0] ui5 basic\n",
      "[chrome 101.0.4951.41 mac os x #0-0]    ✓ should have the right title\n",
      "[chrome 101.0.4951.41 mac os x #0-0]    ✓ should use a control selector with dots and colons (wdi5)\n",
      "[chrome 101.0.4951.41 mac os x #0-0]    ✓ check for invalid control selector\n",
      "[chrome 101.0.4951.41 mac os x #0-0]    ✓ check getControl error message\n",
      "[chrome 101.0.4951.41 mac os x #0-0]    ✓ check the metadata\n",
      "[chrome 101.0.4951.41 mac os x #0-0]    ✓ check getBinding returns a proper object\n",
      "[chrome 101.0.4951.41 mac os x #0-0]    ✓ ---- NOT working in firefox ---- check method chaining with fluent api\n",
      "[chrome 101.0.4951.41 mac os x #0-0]    ✓ check button text\n",
      "[chrome 101.0.4951.41 mac os x #0-0]    ✓ test performance 1\n",
      "[chrome 101.0.4951.41 mac os x #0-0]    ✓ ---- working in firefox ---- check method chaining with fluent api using ID Regex\n",
      "[chrome 101.0.4951.41 mac os x #0-0]    ✓ ---- working in firefox ---- check button text without chaining\n",
      "[chrome 101.0.4951.41 mac os x #0-0]    ✓ ---- working in firefox ---- check methods of fluent api\n",
      "[chrome 101.0.4951.41 mac os x #0-0]\n",
      "[chrome 101.0.4951.41 mac os x #0-0] 12 passing (20.8s)\n",
      "\n",
      "\n",
      "Spec Files:\t 1 passed, 1 total (100% completed) in 00:00:39 \n",
      "\n",
      "test finished\n"
     ]
    }
   ],
   "source": [
    "(async () => {\n",
    "\n",
    "    const path = require('path')\n",
    "    require('dotenv').config({ path: path.resolve(__dirname, '../.env') })\n",
    "    const Launcher = require(\"@wdio/cli\").default\n",
    "    const { join } = require(\"path\")\n",
    "\n",
    "    const _config = {\n",
    "        maxInstances: 1,\n",
    "        specs: [join(\"..\",\"examples\", \"ui5-js-app\",\"webapp\", \"test\", \"e2e\", \"basic.test.js\")],\n",
    "        baseUrl:\n",
    "            \"https://davinci.cpp.cfapps.eu10.hana.ondemand.com/474a7c0c-c364-4075-b53e-983472d76120.basicservice.testSample-1.0.0/index.html\"\n",
    "    }\n",
    "\n",
    "    console.log(`starting with \\n MULTI_IDENT_PROVIDER: ${process.env.MULTI_IDENT_PROVIDER} \\n USE_GLOBAL_ID: ${process.env.USE_GLOBAL_ID} \\n USERNAME: ${process.env.USERNAME} `)\n",
    "\n",
    "    if(process.env.USERNAME && process.env.PASSWORD){\n",
    "\n",
    "        const wdio = new Launcher(\"../examples/ui5-js-app/wdio-browserstack.conf\", _config)\n",
    "            await wdio.run().then((code) => {\n",
    "            if (code === 1) {\n",
    "                console.error(\"test failed\")\n",
    "                process.exit(1)\n",
    "            }else{\n",
    "                console.log(\"test finished\")\n",
    "            }\n",
    "        })\n",
    "    }else{\n",
    "        console.error(\"no username and/ or password for login provided\")\n",
    "    }\n",
    "\n",
    "})();"
   ]
  }
 ],
 "metadata": {
  "kernelspec": {
   "display_name": "JavaScript (Node.js)",
   "language": "javascript",
   "name": "javascript"
  },
  "language_info": {
   "file_extension": ".js",
   "mimetype": "application/javascript",
   "name": "javascript",
   "version": "16.14.0"
  },
  "orig_nbformat": 4
 },
 "nbformat": 4,
 "nbformat_minor": 2
}
